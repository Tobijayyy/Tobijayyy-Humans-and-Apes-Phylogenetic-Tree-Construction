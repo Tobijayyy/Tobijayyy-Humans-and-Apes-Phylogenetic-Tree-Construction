{
 "cells": [
  {
   "cell_type": "code",
   "execution_count": 2,
   "id": "92e18bef-a51a-46bf-9eb1-2a8ee15e5507",
   "metadata": {},
   "outputs": [],
   "source": [
    "from Bio import Entrez\n",
    "from Bio.Blast import NCBIWWW, NCBIXML"
   ]
  },
  {
   "cell_type": "markdown",
   "id": "ffe99b6c-23f0-47c6-937f-f8868f6805ac",
   "metadata": {},
   "source": [
    "#### Obtaining Sequence From NCBI"
   ]
  },
  {
   "cell_type": "code",
   "execution_count": 3,
   "id": "8adc2e72-0335-4bb7-9fb7-b8b5cef5c671",
   "metadata": {},
   "outputs": [],
   "source": [
    "Entrez.email = 'tobijohnson01@gmail.com'"
   ]
  },
  {
   "cell_type": "code",
   "execution_count": 4,
   "id": "a170c750-90a6-4dd8-9a6f-41f64145b729",
   "metadata": {},
   "outputs": [],
   "source": [
    "handle = Entrez.einfo()"
   ]
  },
  {
   "cell_type": "code",
   "execution_count": 5,
   "id": "9d81a874-ffcf-4015-9b0d-f5b00e4096b9",
   "metadata": {},
   "outputs": [],
   "source": [
    "result = Entrez.read(handle)"
   ]
  },
  {
   "cell_type": "code",
   "execution_count": 6,
   "id": "060613d0-e1d0-417f-86f0-0f3281c40d95",
   "metadata": {},
   "outputs": [
    {
     "data": {
      "text/plain": [
       "{'DbList': ['pubmed', 'protein', 'nuccore', 'ipg', 'nucleotide', 'structure', 'genome', 'annotinfo', 'assembly', 'bioproject', 'biosample', 'blastdbinfo', 'books', 'cdd', 'clinvar', 'gap', 'gapplus', 'grasp', 'dbvar', 'gene', 'gds', 'geoprofiles', 'medgen', 'mesh', 'nlmcatalog', 'omim', 'orgtrack', 'pmc', 'popset', 'proteinclusters', 'pcassay', 'protfam', 'pccompound', 'pcsubstance', 'seqannot', 'snp', 'sra', 'taxonomy', 'biocollections', 'gtr']}"
      ]
     },
     "execution_count": 6,
     "metadata": {},
     "output_type": "execute_result"
    }
   ],
   "source": [
    "result"
   ]
  },
  {
   "cell_type": "code",
   "execution_count": 7,
   "id": "80254e2e-020b-4e38-9fb1-9bc6b4823164",
   "metadata": {},
   "outputs": [],
   "source": [
    "handle.close()"
   ]
  },
  {
   "cell_type": "code",
   "execution_count": 40,
   "id": "178bde2d-102c-4727-9f2e-399a87795e22",
   "metadata": {},
   "outputs": [],
   "source": [
    "# Human, Chimpanzee, Bonobo and Orangutan mtDNA accession numbers\n",
    "accession_nos = ['NC_012920.1', 'NC_001643.1', 'NC_001644.1', 'NC_002083.1']\n",
    "\n",
    "def obtain_DNA(*accession_nos):\n",
    "    records = []\n",
    "    for accession_no in accession_nos:\n",
    "        handle = Entrez.efetch(db='nuccore', id=accession_no, rettype='genbank', retmode='text')\n",
    "        result = handle.read()\n",
    "        import io\n",
    "        file = io.StringIO(result)\n",
    "        from Bio import SeqIO\n",
    "        record = SeqIO.read(file, 'gb')\n",
    "        records.append(record)\n",
    "    return SeqIO.write(records, 'mtDNAs.gb', 'gb')"
   ]
  },
  {
   "cell_type": "code",
   "execution_count": 41,
   "id": "beee9950-3a26-4359-a497-10c578dfe6de",
   "metadata": {},
   "outputs": [
    {
     "data": {
      "text/plain": [
       "4"
      ]
     },
     "execution_count": 41,
     "metadata": {},
     "output_type": "execute_result"
    }
   ],
   "source": [
    "obtain_DNA(*accession_nos)"
   ]
  },
  {
   "cell_type": "code",
   "execution_count": 42,
   "id": "75e89c38-6be4-4903-a452-56bb23ded85f",
   "metadata": {},
   "outputs": [],
   "source": [
    "clustal_executable = 'C:\\\\Users\\\\tobij\\\\Desktop\\\\clustal-omega-1.2.2-win64\\\\clustalo.exe'"
   ]
  },
  {
   "cell_type": "code",
   "execution_count": 45,
   "id": "3ad6cc2d-0765-49fa-ad5d-d2a17a3c215b",
   "metadata": {},
   "outputs": [],
   "source": [
    "cmd = [clustal_executable, '--infile=mtDNAs.gb', '--outfile=aligned_mtDNAs.fasta', '--outfmt=fasta']"
   ]
  },
  {
   "cell_type": "code",
   "execution_count": 46,
   "id": "2ad0ba97-2413-41fe-a7c9-867de1f805f8",
   "metadata": {},
   "outputs": [
    {
     "data": {
      "text/plain": [
       "CompletedProcess(args=['C:\\\\Users\\\\tobij\\\\Desktop\\\\clustal-omega-1.2.2-win64\\\\clustalo.exe', '--infile=mtDNAs.gb', '--outfile=aligned_mtDNAs.fasta', '--outfmt=fasta'], returncode=0)"
      ]
     },
     "execution_count": 46,
     "metadata": {},
     "output_type": "execute_result"
    }
   ],
   "source": [
    "import subprocess\n",
    "subprocess.run(cmd, check=True)"
   ]
  },
  {
   "cell_type": "code",
   "execution_count": 47,
   "id": "8e55b6fb-038e-4925-ace4-66d5ab707815",
   "metadata": {},
   "outputs": [],
   "source": [
    "from Bio import AlignIO"
   ]
  },
  {
   "cell_type": "code",
   "execution_count": 57,
   "id": "4649c345-c6d8-428b-bb93-eafd2920b72a",
   "metadata": {},
   "outputs": [],
   "source": [
    "alignments = AlignIO.read('aligned_mtDNAs.fasta', 'fasta')"
   ]
  },
  {
   "cell_type": "code",
   "execution_count": 58,
   "id": "19cb4c73-e250-4c85-8e82-8112b8255b18",
   "metadata": {},
   "outputs": [
    {
     "name": "stdout",
     "output_type": "stream",
     "text": [
      "Alignment with 4 rows and 17199 columns\n",
      "gatcacaggtctatcaccctattaaccactcacgggagctctcc...--- NC_012920\n",
      "--------------------------------------------...aca NC_001643\n",
      "--------------------------------------------...aca NC_001644\n",
      "--------------------------------------------...cg- NC_002083\n",
      "Alignment with 4 rows and 17199 columns\n",
      "gatcacaggtctatcaccctattaaccactcacgggagctctcc...--- NC_012920\n",
      "--------------------------------------------...aca NC_001643\n",
      "--------------------------------------------...aca NC_001644\n",
      "--------------------------------------------...cg- NC_002083\n",
      "Alignment with 4 rows and 17199 columns\n",
      "gatcacaggtctatcaccctattaaccactcacgggagctctcc...--- NC_012920\n",
      "--------------------------------------------...aca NC_001643\n",
      "--------------------------------------------...aca NC_001644\n",
      "--------------------------------------------...cg- NC_002083\n",
      "Alignment with 4 rows and 17199 columns\n",
      "gatcacaggtctatcaccctattaaccactcacgggagctctcc...--- NC_012920\n",
      "--------------------------------------------...aca NC_001643\n",
      "--------------------------------------------...aca NC_001644\n",
      "--------------------------------------------...cg- NC_002083\n"
     ]
    }
   ],
   "source": [
    "for alignment in alignments:\n",
    "    print(alignments)"
   ]
  },
  {
   "cell_type": "markdown",
   "id": "82786c16-76e2-4f16-90d1-83d8f6b0afff",
   "metadata": {},
   "source": [
    "#### Phylogenetic Tree Construction"
   ]
  },
  {
   "cell_type": "code",
   "execution_count": 67,
   "id": "661108c1-d683-4333-93ba-26dc9726c9c4",
   "metadata": {},
   "outputs": [],
   "source": [
    "from Bio import Phylo\n",
    "from Bio.Phylo.TreeConstruction import DistanceCalculator, DistanceTreeConstructor"
   ]
  },
  {
   "cell_type": "code",
   "execution_count": 73,
   "id": "10f86576-94ed-444b-9f18-7d66c1918a4f",
   "metadata": {},
   "outputs": [],
   "source": [
    "calc = DistanceCalculator('identity')"
   ]
  },
  {
   "cell_type": "code",
   "execution_count": 74,
   "id": "e4cd3ecd-2b03-4d14-b9e4-9f5b34ecf764",
   "metadata": {},
   "outputs": [
    {
     "data": {
      "text/plain": [
       "DistanceMatrix(names=['NC_012920', 'NC_001643', 'NC_001644', 'NC_002083'], matrix=[[0], [0.14774114774114777, 0], [0.1471015756730042, 0.04064189778475491, 0], [0.1986161986161986, 0.1558230129658701, 0.15500901215186924, 0]])"
      ]
     },
     "execution_count": 74,
     "metadata": {},
     "output_type": "execute_result"
    }
   ],
   "source": [
    "dm = calc.get_distance(alignments)\n",
    "dm"
   ]
  },
  {
   "cell_type": "code",
   "execution_count": 80,
   "id": "5dcafa64-eb8b-4dc5-a66e-d9f8036fc00a",
   "metadata": {},
   "outputs": [],
   "source": [
    "const = DistanceTreeConstructor(calc, 'upgma')"
   ]
  },
  {
   "cell_type": "code",
   "execution_count": 82,
   "id": "59f1fad6-1213-42c3-9fbe-71c9a895a6f5",
   "metadata": {},
   "outputs": [],
   "source": [
    "tree = const.build_tree(alignments)"
   ]
  },
  {
   "cell_type": "code",
   "execution_count": 83,
   "id": "c4eaefdb-d21f-4df8-9d69-46dc42691ed7",
   "metadata": {},
   "outputs": [
    {
     "data": {
      "image/png": "[encoded data removed]",
      "text/plain": [
       "<Figure size 640x480 with 1 Axes>"
      ]
     },
     "metadata": {},
     "output_type": "display_data"
    }
   ],
   "source": [
    "Phylo.draw(tree)"
   ]
  },
  {
   "cell_type": "code",
   "execution_count": 19,
   "id": "e3cd1d89-8331-452d-b005-2e154d0d9b1e",
   "metadata": {},
   "outputs": [],
   "source": [
    "from Bio.Align import PairwiseAligner"
   ]
  },
  {
   "cell_type": "code",
   "execution_count": 20,
   "id": "05dadd6f-8a2a-4496-9efc-10240380a60a",
   "metadata": {},
   "outputs": [],
   "source": [
    "aligner = PairwiseAligner()"
   ]
  },
  {
   "cell_type": "code",
   "execution_count": 21,
   "id": "64a62852-8936-4b2e-ab80-57a23333672e",
   "metadata": {},
   "outputs": [],
   "source": [
    "aligner.mode = 'global'\n",
    "aligner.match_score = 1\n",
    "aligner.mismatch_score = -1\n",
    "aligner.open_gap_score = -0.5\n",
    "aligner.extend_gap_score = -0.1"
   ]
  },
  {
   "cell_type": "code",
   "execution_count": 22,
   "id": "e49c51e1-fdaf-4422-bafd-d4183738858a",
   "metadata": {},
   "outputs": [],
   "source": [
    "def scores(refseq, *mutant_seqs):\n",
    "    alignment_scores = []\n",
    "    for mutant_seq in mutant_seqs:\n",
    "        alignments = aligner.align(refseq, mutant_seq)\n",
    "        alignment_scores.append(alignments.score)\n",
    "    return alignment_scores"
   ]
  },
  {
   "cell_type": "code",
   "execution_count": 24,
   "id": "d0f45ec5-4318-4af6-b58f-42e79eef7682",
   "metadata": {},
   "outputs": [],
   "source": [
    "mutant_seqs = [mutant_seq1, mutant_seq2, mutant_seq3]"
   ]
  },
  {
   "cell_type": "code",
   "execution_count": 25,
   "id": "d5976d6f-83ca-4bb6-a287-161fb6689f1e",
   "metadata": {
    "scrolled": true
   },
   "outputs": [
    {
     "data": {
      "text/plain": [
       "[16568.5, 16567.5, 16567.0]"
      ]
     },
     "execution_count": 25,
     "metadata": {},
     "output_type": "execute_result"
    }
   ],
   "source": [
    "scores(refseq, *mutant_seqs)"
   ]
  },
  {
   "cell_type": "code",
   "execution_count": 26,
   "id": "0e04a037-8686-4429-89c1-94b75a13b636",
   "metadata": {},
   "outputs": [],
   "source": [
    "from Bio import motifs\n",
    "instances = []\n",
    "m = motifs.create(instances)"
   ]
  },
  {
   "cell_type": "code",
   "execution_count": 28,
   "id": "ddcabd96-aea6-45ef-80e4-7804406027d0",
   "metadata": {},
   "outputs": [
    {
     "data": {
      "text/plain": [
       "Seq('SWRYCRSMSY')"
      ]
     },
     "execution_count": 28,
     "metadata": {},
     "output_type": "execute_result"
    }
   ],
   "source": [
    "m.degenerate_consensus"
   ]
  },
  {
   "cell_type": "code",
   "execution_count": null,
   "id": "4b0b833f-76f8-4d85-bf5d-eef3ce7840fa",
   "metadata": {},
   "outputs": [],
   "source": []
  },
  {
   "cell_type": "code",
   "execution_count": null,
   "id": "1fb7d8e6-fecb-45dd-8aef-0bed266d0e7d",
   "metadata": {},
   "outputs": [],
   "source": []
  },
  {
   "cell_type": "code",
   "execution_count": null,
   "id": "13223418-d8fa-44e6-8b6d-1e4be6aa53f8",
   "metadata": {},
   "outputs": [],
   "source": []
  },
  {
   "cell_type": "code",
   "execution_count": null,
   "id": "0b5dbb16-39dc-4ea8-ac59-e4cb1c279ec1",
   "metadata": {},
   "outputs": [],
   "source": []
  },
  {
   "cell_type": "code",
   "execution_count": null,
   "id": "d3f2f89a-2735-41e8-8c48-fa6fe78b4afc",
   "metadata": {},
   "outputs": [],
   "source": []
  },
  {
   "cell_type": "code",
   "execution_count": null,
   "id": "5c440639-fd5e-4068-b272-2ea5cd27d3f8",
   "metadata": {},
   "outputs": [],
   "source": []
  },
  {
   "cell_type": "code",
   "execution_count": null,
   "id": "c8329e0e-d575-4711-b36b-ceb65f594629",
   "metadata": {},
   "outputs": [],
   "source": []
  },
  {
   "cell_type": "code",
   "execution_count": null,
   "id": "93378883-5c51-4608-a282-2ccd310e02b1",
   "metadata": {},
   "outputs": [],
   "source": []
  },
  {
   "cell_type": "code",
   "execution_count": null,
   "id": "41343e0e-7214-42ae-9f87-95a86969a241",
   "metadata": {},
   "outputs": [],
   "source": []
  }
 ],
 "metadata": {
  "kernelspec": {
   "display_name": "Python 3 (ipykernel)",
   "language": "python",
   "name": "python3"
  },
  "language_info": {
   "codemirror_mode": {
    "name": "ipython",
    "version": 3
   },
   "file_extension": ".py",
   "mimetype": "text/x-python",
   "name": "python",
   "nbconvert_exporter": "python",
   "pygments_lexer": "ipython3",
   "version": "3.9.7"
  }
 },
 "nbformat": 4,
 "nbformat_minor": 5
}
